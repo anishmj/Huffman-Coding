{
 "cells": [
  {
   "cell_type": "code",
   "execution_count": 39,
   "id": "04200a56",
   "metadata": {},
   "outputs": [
    {
     "name": "stdout",
     "output_type": "stream",
     "text": [
      "Enter ANY string 212221230005 ANISH MJ\n"
     ]
    }
   ],
   "source": [
    "string = input(\"Enter ANY string\")"
   ]
  },
  {
   "cell_type": "code",
   "execution_count": 40,
   "id": "a9a1e8ff",
   "metadata": {},
   "outputs": [],
   "source": [
    "class NodeTree(object):\n",
    "    def __init__(self,left = None, right = None):\n",
    "        self.left = left\n",
    "        self.right = right\n",
    "        \n",
    "    def children(self):\n",
    "        return(self.left,self.right)"
   ]
  },
  {
   "cell_type": "code",
   "execution_count": 41,
   "id": "4d023535",
   "metadata": {},
   "outputs": [],
   "source": [
    "## Calculating Frequency\n",
    "\n",
    "freq = {}\n",
    "for c in string: \n",
    "    if c in freq:\n",
    "        freq[c] = freq[c]+1\n",
    "    \n",
    "    else:\n",
    "        freq[c] = 1\n",
    "        \n",
    "freq = sorted(freq.items(),key = lambda x: x[1],reverse = True)\n",
    "\n",
    "nodes = freq"
   ]
  },
  {
   "cell_type": "code",
   "execution_count": 42,
   "id": "c168689f",
   "metadata": {},
   "outputs": [],
   "source": [
    "while len(nodes)>1:\n",
    "    (key1,c1) = nodes[-1]\n",
    "    (key2,c2) = nodes[-2]\n",
    "    nodes = nodes[:-2]\n",
    "    node = NodeTree(key1,key2)\n",
    "    nodes.append((node,c1+c2))\n",
    "    \n",
    "    nodes = sorted(nodes,key = lambda x : x[1] , reverse = True)"
   ]
  },
  {
   "cell_type": "code",
   "execution_count": 43,
   "id": "0c423511",
   "metadata": {},
   "outputs": [],
   "source": [
    "def huffman_code_tree(node,left = True , binString=''):\n",
    "    if type(node) == str:\n",
    "        return {node : binString}\n",
    "    (l,r) = node.children()\n",
    "    d = dict()\n",
    "    d.update(huffman_code_tree(l,True,binString + '0'))\n",
    "    d.update(huffman_code_tree(r,False,binString + '1'))\n",
    "    return d"
   ]
  },
  {
   "cell_type": "code",
   "execution_count": 44,
   "id": "71639d9f",
   "metadata": {},
   "outputs": [
    {
     "name": "stdout",
     "output_type": "stream",
     "text": [
      " '2'  |           01\n",
      " ' '  |          110\n",
      " '0'  |          101\n",
      " '1'  |         1111\n",
      " '3'  |         1000\n",
      " '5'  |        10011\n",
      " 'A'  |        10010\n",
      " 'N'  |         0001\n",
      " 'I'  |         0000\n",
      " 'S'  |         0011\n",
      " 'H'  |         0010\n",
      " 'M'  |        11101\n",
      " 'J'  |        11100\n"
     ]
    }
   ],
   "source": [
    "huffmanCode = huffman_code_tree(nodes[0][0])\n",
    "for(char,frequency) in freq:\n",
    "    print(\" %-4r | %12s\" %(char,huffmanCode[char]))"
   ]
  },
  {
   "cell_type": "code",
   "execution_count": null,
   "id": "7f5edff7",
   "metadata": {},
   "outputs": [],
   "source": []
  }
 ],
 "metadata": {
  "kernelspec": {
   "display_name": "Python 3 (ipykernel)",
   "language": "python",
   "name": "python3"
  },
  "language_info": {
   "codemirror_mode": {
    "name": "ipython",
    "version": 3
   },
   "file_extension": ".py",
   "mimetype": "text/x-python",
   "name": "python",
   "nbconvert_exporter": "python",
   "pygments_lexer": "ipython3",
   "version": "3.8.12"
  }
 },
 "nbformat": 4,
 "nbformat_minor": 5
}
